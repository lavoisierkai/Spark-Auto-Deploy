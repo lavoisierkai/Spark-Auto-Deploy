{
 "cells": [
  {
   "cell_type": "code",
   "execution_count": 1,
   "id": "fe1e9988",
   "metadata": {},
   "outputs": [],
   "source": [
    "import numpy as np\n",
    "import pandas as pd\n",
    "import os\n",
    "import glob\n",
    "import re\n",
    "from datetime import datetime\n",
    "import matplotlib.pyplot as plt"
   ]
  },
  {
   "cell_type": "code",
   "execution_count": 2,
   "id": "3c6f2a50",
   "metadata": {},
   "outputs": [],
   "source": [
    "mydir = \"/Users/kaihu/Desktop/Spark_deployment/monitor_data/\""
   ]
  },
  {
   "cell_type": "code",
   "execution_count": 3,
   "id": "715a6309",
   "metadata": {},
   "outputs": [],
   "source": [
    "def rigth(s, amount):\n",
    "    return s[-amount:]\n",
    "\n",
    "def left(s, amount):\n",
    "    return s[:amount]\n",
    "\n",
    "filelist = list()\n",
    "for i,j,k in os.walk(mydir):\n",
    "    for x in k:\n",
    "        if x.endswith(\".csv\") and x.startswith(\"slave_total_LR\"):\n",
    "            filelist.append(os.path.join(i, x))"
   ]
  },
  {
   "cell_type": "code",
   "execution_count": 4,
   "id": "fc979660",
   "metadata": {},
   "outputs": [],
   "source": [
    "df = list()\n",
    "df_new = list()\n",
    "order = list()\n",
    "for file in filelist:\n",
    "#     print(left(rigth(file,6),2).replace(\"l\",\"\"))\n",
    "    order.append(left(rigth(file,6),2).replace(\"l\",\"\"))\n",
    "    df = pd.read_csv(file, index_col=None)\n",
    "    df_new.append(df)"
   ]
  },
  {
   "cell_type": "code",
   "execution_count": 5,
   "id": "107ee138",
   "metadata": {},
   "outputs": [],
   "source": [
    "df_result = pd.DataFrame()\n",
    "mean_cpu = list()\n",
    "for i in range(len(order)):\n",
    "    mean_cpu.append(df_new[i].mean()[\"mean_cpu_usage\"])\n",
    "df_result[\"mach_size\"] = list(map(int,order))\n",
    "df_result[\"mean_cpu_usage\"] = mean_cpu"
   ]
  },
  {
   "cell_type": "code",
   "execution_count": 6,
   "id": "d8282f71",
   "metadata": {},
   "outputs": [
    {
     "data": {
      "text/html": [
       "<div>\n",
       "<style scoped>\n",
       "    .dataframe tbody tr th:only-of-type {\n",
       "        vertical-align: middle;\n",
       "    }\n",
       "\n",
       "    .dataframe tbody tr th {\n",
       "        vertical-align: top;\n",
       "    }\n",
       "\n",
       "    .dataframe thead th {\n",
       "        text-align: right;\n",
       "    }\n",
       "</style>\n",
       "<table border=\"1\" class=\"dataframe\">\n",
       "  <thead>\n",
       "    <tr style=\"text-align: right;\">\n",
       "      <th></th>\n",
       "      <th>mach_size</th>\n",
       "      <th>mean_cpu_usage</th>\n",
       "    </tr>\n",
       "  </thead>\n",
       "  <tbody>\n",
       "    <tr>\n",
       "      <th>0</th>\n",
       "      <td>0</td>\n",
       "      <td>39.549126</td>\n",
       "    </tr>\n",
       "    <tr>\n",
       "      <th>1</th>\n",
       "      <td>1</td>\n",
       "      <td>36.743974</td>\n",
       "    </tr>\n",
       "    <tr>\n",
       "      <th>2</th>\n",
       "      <td>2</td>\n",
       "      <td>53.911813</td>\n",
       "    </tr>\n",
       "    <tr>\n",
       "      <th>3</th>\n",
       "      <td>3</td>\n",
       "      <td>49.807410</td>\n",
       "    </tr>\n",
       "    <tr>\n",
       "      <th>4</th>\n",
       "      <td>4</td>\n",
       "      <td>50.356844</td>\n",
       "    </tr>\n",
       "    <tr>\n",
       "      <th>5</th>\n",
       "      <td>5</td>\n",
       "      <td>56.346748</td>\n",
       "    </tr>\n",
       "    <tr>\n",
       "      <th>6</th>\n",
       "      <td>6</td>\n",
       "      <td>59.408189</td>\n",
       "    </tr>\n",
       "  </tbody>\n",
       "</table>\n",
       "</div>"
      ],
      "text/plain": [
       "   mach_size  mean_cpu_usage\n",
       "0          0       39.549126\n",
       "1          1       36.743974\n",
       "2          2       53.911813\n",
       "3          3       49.807410\n",
       "4          4       50.356844\n",
       "5          5       56.346748\n",
       "6          6       59.408189"
      ]
     },
     "execution_count": 6,
     "metadata": {},
     "output_type": "execute_result"
    }
   ],
   "source": [
    "df_result.sort_values(by=[\"mach_size\"]).reset_index(drop=True)"
   ]
  },
  {
   "cell_type": "code",
   "execution_count": 7,
   "id": "60f6e337",
   "metadata": {},
   "outputs": [
    {
     "data": {
      "text/plain": [
       "['/Users/kaihu/Desktop/Spark_deployment/monitor_data/2021-06-18_09:52:26_LR_data_original3/slave_total_LR_data_original3.csv',\n",
       " '/Users/kaihu/Desktop/Spark_deployment/monitor_data/2021-06-18_09:43:14_LR_data_original1/slave_total_LR_data_original1.csv',\n",
       " '/Users/kaihu/Desktop/Spark_deployment/monitor_data/2021-06-18_09:36:49_LR_data_original0/slave_total_LR_data_original0.csv',\n",
       " '/Users/kaihu/Desktop/Spark_deployment/monitor_data/2021-06-18_09:57:11_LR_data_original4/slave_total_LR_data_original4.csv',\n",
       " '/Users/kaihu/Desktop/Spark_deployment/monitor_data/2021-06-18_10:05:54_LR_data_original6/slave_total_LR_data_original6.csv',\n",
       " '/Users/kaihu/Desktop/Spark_deployment/monitor_data/2021-06-18_09:47:46_LR_data_original2/slave_total_LR_data_original2.csv',\n",
       " '/Users/kaihu/Desktop/Spark_deployment/monitor_data/2021-06-18_10:01:42_LR_data_original5/slave_total_LR_data_original5.csv']"
      ]
     },
     "execution_count": 7,
     "metadata": {},
     "output_type": "execute_result"
    }
   ],
   "source": [
    "filelist"
   ]
  },
  {
   "cell_type": "code",
   "execution_count": null,
   "id": "b4840763",
   "metadata": {},
   "outputs": [],
   "source": []
  }
 ],
 "metadata": {
  "kernelspec": {
   "display_name": "Python 3",
   "language": "python",
   "name": "python3"
  },
  "language_info": {
   "codemirror_mode": {
    "name": "ipython",
    "version": 3
   },
   "file_extension": ".py",
   "mimetype": "text/x-python",
   "name": "python",
   "nbconvert_exporter": "python",
   "pygments_lexer": "ipython3",
   "version": "3.8.2"
  }
 },
 "nbformat": 4,
 "nbformat_minor": 5
}
