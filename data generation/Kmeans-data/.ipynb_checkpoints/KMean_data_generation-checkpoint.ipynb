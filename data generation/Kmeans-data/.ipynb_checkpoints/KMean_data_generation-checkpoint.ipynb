{
 "cells": [
  {
   "cell_type": "code",
   "execution_count": 1,
   "id": "73d22aa8",
   "metadata": {},
   "outputs": [],
   "source": [
    "import random\n",
    "import numpy as np\n",
    "import pandas as pd"
   ]
  },
  {
   "cell_type": "code",
   "execution_count": 2,
   "id": "9efb20d9",
   "metadata": {},
   "outputs": [],
   "source": [
    "data_length = 10000000\n",
    "data_length1 = int(data_length * 0.1)"
   ]
  },
  {
   "cell_type": "code",
   "execution_count": 3,
   "id": "e5715452",
   "metadata": {},
   "outputs": [],
   "source": [
    "df1 = pd.DataFrame(np.random.rand(data_length, 3)*10,columns=[0,1,2])\n",
    "df1.to_csv(\"kmeans_data_original.txt\", sep= \" \", index=False, header=False)"
   ]
  },
  {
   "cell_type": "code",
   "execution_count": 4,
   "id": "43d8ba4b",
   "metadata": {},
   "outputs": [],
   "source": [
    "df2 = pd.DataFrame(np.random.rand(data_length1, 3)*10,columns=[0,1,2])"
   ]
  },
  {
   "cell_type": "markdown",
   "id": "998c9b94",
   "metadata": {},
   "source": [
    "# Generate tail random"
   ]
  },
  {
   "cell_type": "code",
   "execution_count": 5,
   "id": "fe56c381",
   "metadata": {},
   "outputs": [],
   "source": [
    "df_1 = df1.iloc[0:(data_length-data_length1),]\n",
    "df_tail_random = pd.concat([df_1, df2])\n",
    "df_tail_random.to_csv(\"kmeans_data_ten_tail_random.txt\", sep= \" \", index=False, header=False)"
   ]
  },
  {
   "cell_type": "markdown",
   "id": "f0603d72",
   "metadata": {},
   "source": [
    "# Generate head random"
   ]
  },
  {
   "cell_type": "code",
   "execution_count": 6,
   "id": "d3889679",
   "metadata": {},
   "outputs": [],
   "source": [
    "df_2 = df1.iloc[(data_length-(data_length-data_length1)):,]\n",
    "df_head_random = pd.concat([df2, df_2])\n",
    "df_head_random.to_csv(\"kmeans_data_ten_head_random.txt\", sep= \" \", index=False, header=False)"
   ]
  },
  {
   "cell_type": "markdown",
   "id": "14f28bff",
   "metadata": {},
   "source": [
    "# Generate random position random"
   ]
  },
  {
   "cell_type": "code",
   "execution_count": 7,
   "id": "dea3a89c",
   "metadata": {},
   "outputs": [],
   "source": [
    "change = df1.sample(n=data_length1,random_state=1).index\n",
    "df1.loc[change,0] = random.uniform(0, 1)*10\n",
    "df1.loc[change,1] = random.uniform(0, 1)*10\n",
    "df1.loc[change,2] = random.uniform(0, 1)*10\n",
    "df1.to_csv(\"kmeans_data_ten_random_random.txt\", sep= \" \", index=False, header=False)"
   ]
  },
  {
   "cell_type": "code",
   "execution_count": null,
   "id": "84208499",
   "metadata": {},
   "outputs": [],
   "source": []
  }
 ],
 "metadata": {
  "kernelspec": {
   "display_name": "Python 3",
   "language": "python",
   "name": "python3"
  },
  "language_info": {
   "codemirror_mode": {
    "name": "ipython",
    "version": 3
   },
   "file_extension": ".py",
   "mimetype": "text/x-python",
   "name": "python",
   "nbconvert_exporter": "python",
   "pygments_lexer": "ipython3",
   "version": "3.8.2"
  }
 },
 "nbformat": 4,
 "nbformat_minor": 5
}
